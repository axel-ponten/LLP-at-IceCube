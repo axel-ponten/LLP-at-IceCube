{
 "cells": [
  {
   "cell_type": "code",
   "execution_count": null,
   "id": "74e55b33-7bd2-49e1-9645-e852634fc764",
   "metadata": {},
   "outputs": [],
   "source": [
    "from icecube import icetray, dataclasses, neutrino_generator"
   ]
  }
 ],
 "metadata": {
  "kernelspec": {
   "display_name": "IceCube (py3-v4.2.1)",
   "language": "python",
   "name": "py3-v4.2.1"
  },
  "language_info": {
   "codemirror_mode": {
    "name": "ipython",
    "version": 3
   },
   "file_extension": ".py",
   "mimetype": "text/x-python",
   "name": "python",
   "nbconvert_exporter": "python",
   "pygments_lexer": "ipython3",
   "version": "3.10.2"
  }
 },
 "nbformat": 4,
 "nbformat_minor": 5
}
