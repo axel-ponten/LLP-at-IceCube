{
 "cells": [
  {
   "cell_type": "code",
   "execution_count": 1,
   "id": "1fffe9f8-6a16-4521-abe2-523895ade828",
   "metadata": {},
   "outputs": [],
   "source": [
    "import icecube\n",
    "from icecube import dataclasses, dataio, icetray, simclasses, recclasses\n",
    "import argparse\n",
    "import matplotlib.pyplot as plt\n",
    "import numpy as np\n",
    "import pandas as pd"
   ]
  },
  {
   "cell_type": "code",
   "execution_count": 2,
   "id": "2d0da4c0-4787-40bc-9686-fe241a15e866",
   "metadata": {},
   "outputs": [],
   "source": [
    "filename = \"Selected_bkg_candidates_10files.i3.gz\"\n",
    "infile = dataio.I3File(filename, \"r\")"
   ]
  },
  {
   "cell_type": "code",
   "execution_count": 3,
   "id": "49aa54b5-9855-4bd1-aa37-639ccf3648c2",
   "metadata": {},
   "outputs": [
    {
     "name": "stdout",
     "output_type": "stream",
     "text": [
      "--- 0 ---\n",
      "--- 1000 ---\n",
      "--- 2000 ---\n",
      "--- 3000 ---\n",
      "--- 4000 ---\n",
      "--- 5000 ---\n",
      "--- 6000 ---\n",
      "--- 7000 ---\n",
      "--- 8000 ---\n",
      "--- 9000 ---\n",
      "--- 10000 ---\n",
      "--- 11000 ---\n",
      "--- 12000 ---\n",
      "--- 13000 ---\n",
      "--- 14000 ---\n"
     ]
    }
   ],
   "source": [
    "i3list = []\n",
    "\n",
    "i = 0\n",
    "while infile.more():\n",
    "    if i % 1000 == 0:\n",
    "        print(\"---\", i, \"---\")\n",
    "    frame = infile.pop_daq()\n",
    "    \n",
    "    tree = frame[\"SignalI3MCTree\"]\n",
    "    primary = tree.get_head()\n",
    "    children = tree.children(primary)\n",
    "    j = 0\n",
    "    for c in children:\n",
    "        if c.type == 13 or c.type == -13:\n",
    "            j += 1\n",
    "            interactions = tree.children(c)\n",
    "            if len(interactions) > 0:\n",
    "                interfinal = interactions[-1]\n",
    "            \n",
    "            if interfinal.energy > 1:\n",
    "                i3list.append(interfinal)\n",
    "#    print(f\"number of muons: {j}\")\n",
    "            \n",
    "        \n",
    "#    print(\"--------\")\n",
    "#    for p in frame[\"MMCTrackList\"]: # contains only propagated events\n",
    "#        print(p)\n",
    "    i += 1"
   ]
  },
  {
   "cell_type": "code",
   "execution_count": 4,
   "id": "0a2bd065-4d3b-4212-a286-8a5ebe95dd5d",
   "metadata": {},
   "outputs": [],
   "source": [
    "energylist = []\n",
    "for i in i3list:\n",
    "    energylist.append(i.energy)"
   ]
  },
  {
   "cell_type": "code",
   "execution_count": 5,
   "id": "6478925a-d515-4b88-ad08-81060bee692e",
   "metadata": {},
   "outputs": [
    {
     "data": {
      "text/plain": [
       "Text(0, 0.5, 'Count')"
      ]
     },
     "execution_count": 5,
     "metadata": {},
     "output_type": "execute_result"
    },
    {
     "data": {
      "image/png": "[encoded data removed]",
      "text/plain": [
       "<Figure size 640x480 with 1 Axes>"
      ]
     },
     "metadata": {},
     "output_type": "display_data"
    }
   ],
   "source": [
    "plt.hist(energylist, bins=np.logspace(np.log10(min(energylist)), np.log10(max(energylist))))\n",
    "plt.xscale(\"log\")\n",
    "plt.xlabel(\"Energy [GeV]\")\n",
    "plt.ylabel(\"Count\")"
   ]
  },
  {
   "cell_type": "code",
   "execution_count": null,
   "id": "29358c56-49f3-4838-8b11-f3ee68c8a87a",
   "metadata": {},
   "outputs": [],
   "source": []
  }
 ],
 "metadata": {
  "kernelspec": {
   "display_name": "py3-v4.2.1: icetray/v1.5.1",
   "language": "python",
   "name": "py3-v4.2.1_v1.5.1"
  },
  "language_info": {
   "codemirror_mode": {
    "name": "ipython",
    "version": 3
   },
   "file_extension": ".py",
   "mimetype": "text/x-python",
   "name": "python",
   "nbconvert_exporter": "python",
   "pygments_lexer": "ipython3",
   "version": "3.10.2"
  }
 },
 "nbformat": 4,
 "nbformat_minor": 5
}
