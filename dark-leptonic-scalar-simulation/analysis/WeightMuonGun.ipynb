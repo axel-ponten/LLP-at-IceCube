{
 "cells": [
  {
   "cell_type": "code",
   "execution_count": 1,
   "id": "c0b7b8fb-269a-4fc1-b21f-d881afeab90d",
   "metadata": {},
   "outputs": [
    {
     "name": "stderr",
     "output_type": "stream",
     "text": [
      "<frozen importlib._bootstrap>:241: RuntimeWarning: to-Python converter for std::vector<char, std::allocator<char> > already registered; second conversion method ignored.\n",
      "<frozen importlib._bootstrap>:241: RuntimeWarning: to-Python converter for std::vector<std::__cxx11::basic_string<char, std::char_traits<char>, std::allocator<char> >, std::allocator<std::__cxx11::basic_string<char, std::char_traits<char>, std::allocator<char> > > > already registered; second conversion method ignored.\n",
      "<frozen importlib._bootstrap>:241: RuntimeWarning: to-Python converter for std::vector<OMKey, std::allocator<OMKey> > already registered; second conversion method ignored.\n",
      "<frozen importlib._bootstrap>:241: RuntimeWarning: to-Python converter for std::vector<short, std::allocator<short> > already registered; second conversion method ignored.\n",
      "<frozen importlib._bootstrap>:241: RuntimeWarning: to-Python converter for std::vector<int, std::allocator<int> > already registered; second conversion method ignored.\n",
      "<frozen importlib._bootstrap>:241: RuntimeWarning: to-Python converter for std::vector<unsigned int, std::allocator<unsigned int> > already registered; second conversion method ignored.\n",
      "<frozen importlib._bootstrap>:241: RuntimeWarning: to-Python converter for std::vector<unsigned long, std::allocator<unsigned long> > already registered; second conversion method ignored.\n",
      "<frozen importlib._bootstrap>:241: RuntimeWarning: to-Python converter for std::vector<double, std::allocator<double> > already registered; second conversion method ignored.\n",
      "<frozen importlib._bootstrap>:241: RuntimeWarning: to-Python converter for CorsikaModelEnums::Status already registered; second conversion method ignored.\n",
      "<frozen importlib._bootstrap>:241: RuntimeWarning: to-Python converter for I3PrimaryInjectorInfo already registered; second conversion method ignored.\n",
      "<frozen importlib._bootstrap>:241: RuntimeWarning: to-Python converter for boost::shared_ptr<I3PrimaryInjectorInfo> already registered; second conversion method ignored.\n",
      "<frozen importlib._bootstrap>:241: RuntimeWarning: to-Python converter for I3CorsikaInfo already registered; second conversion method ignored.\n",
      "<frozen importlib._bootstrap>:241: RuntimeWarning: to-Python converter for boost::shared_ptr<I3CorsikaInfo> already registered; second conversion method ignored.\n",
      "<frozen importlib._bootstrap>:241: RuntimeWarning: to-Python converter for I3TopInjectorInfo already registered; second conversion method ignored.\n",
      "<frozen importlib._bootstrap>:241: RuntimeWarning: to-Python converter for boost::shared_ptr<I3TopInjectorInfo> already registered; second conversion method ignored.\n",
      "<frozen importlib._bootstrap>:241: RuntimeWarning: to-Python converter for CorsikaModelEnums::LEHadronModel already registered; second conversion method ignored.\n",
      "<frozen importlib._bootstrap>:241: RuntimeWarning: to-Python converter for CorsikaModelEnums::HEHadronModel already registered; second conversion method ignored.\n",
      "<frozen importlib._bootstrap>:241: RuntimeWarning: to-Python converter for (anonymous namespace)::dummy already registered; second conversion method ignored.\n"
     ]
    }
   ],
   "source": [
    "\"\"\" is this script even needed? maybe there are weights already in the files \"\"\"\n",
    "\n",
    "import icecube\n",
    "from icecube import icetray, dataio\n",
    "from icecube import MuonGun\n",
    "from icecube.icetray import I3Tray\n",
    "import glob\n",
    "import os"
   ]
  },
  {
   "cell_type": "code",
   "execution_count": 2,
   "id": "fd4c19f0-c24d-4c51-b2be-4f199fbb63ac",
   "metadata": {},
   "outputs": [],
   "source": [
    "def harvest_generators(infiles):\n",
    "    \"\"\"\n",
    "    Harvest serialized generator configurations from a set of I3 files.\n",
    "    \"\"\"\n",
    "    from icecube.icetray.i3logging import log_info as log\n",
    "    generator = None\n",
    "    for fname in infiles:\n",
    "        f = dataio.I3File(fname)\n",
    "        fr = f.pop_frame(icetray.I3Frame.Stream('S'))\n",
    "        f.close()\n",
    "        if fr is not None:\n",
    "            for k in fr.keys():\n",
    "                v = fr[k]\n",
    "                if isinstance(v, MuonGun.GenerationProbability):\n",
    "                    log('%s: found \"%s\" (%s)' % (fname, k, type(v).__name__), unit=\"MuonGun\")\n",
    "                    if generator is None:\n",
    "                        generator = v\n",
    "                    else:\n",
    "                        generator += v\n",
    "    return generator"
   ]
  },
  {
   "cell_type": "code",
   "execution_count": 3,
   "id": "fa8d471e-9773-4aa5-ac7d-5714db49b857",
   "metadata": {},
   "outputs": [
    {
     "name": "stdout",
     "output_type": "stream",
     "text": [
      "<icecube._MuonGun.StaticSurfaceInjector object at 0x7f95eecdc270>\n"
     ]
    }
   ],
   "source": [
    "model = MuonGun.load_model('Hoerandel5_atmod12_SIBYLL')\n",
    "\n",
    "datadir = \"/data/user/axelpo/LLP-data/\"\n",
    "folderlist = [\n",
    "            \"DarkLeptonicScalar.mass-130.eps-5e-6.nevents-10000_ene_1e2_1e3_231129.200717492\",\n",
    "            \"DarkLeptonicScalar.mass-130.eps-5e-6.nevents-10000_ene_1e2_1e3_231129.200717487\",\n",
    "            \"DarkLeptonicScalar.mass-130.eps-5e-6.nevents-10000_ene_1e3_1e6_231129.200717474\",\n",
    "            \"DarkLeptonicScalar.mass-130.eps-5e-6.nevents-10000_ene_1e3_1e6_231129.200717483\",\n",
    "            \"DarkLeptonicScalar.mass-130.eps-5e-6.nevents-10000_ene_1e4_1e7_gap_100_231129.200719028\",\n",
    "             ]\n",
    "\n",
    "# dataset enum\n",
    "#for foldername in folderlist:\n",
    "foldername = folderlist[0]\n",
    "datapath = datadir + foldername + \"/\"\n",
    "infiles = list(glob.glob(datapath+\"LLPSim*/*.gz\"))\n",
    "generator = harvest_generators(infiles)\n",
    "print(generator)"
   ]
  },
  {
   "cell_type": "code",
   "execution_count": null,
   "id": "bb6e303b-4ab6-40d5-97a1-2a984086a2fc",
   "metadata": {},
   "outputs": [
    {
     "name": "stdout",
     "output_type": "stream",
     "text": [
      "<icecube._MuonGun.StaticSurfaceInjector object at 0x7f95eecdc4a0>"
     ]
    }
   ],
   "source": [
    "model = MuonGun.load_model('Hoerandel5_atmod12_SIBYLL')\n",
    "\n",
    "datadir = \"/data/user/axelpo/LLP-data/\"\n",
    "folderlist = [\n",
    "            \"DarkLeptonicScalar.mass-130.eps-5e-6.nevents-10000_ene_1e2_1e3_231129.200717492\",\n",
    "            \"DarkLeptonicScalar.mass-130.eps-5e-6.nevents-10000_ene_1e2_1e3_231129.200717487\",\n",
    "            \"DarkLeptonicScalar.mass-130.eps-5e-6.nevents-10000_ene_1e3_1e6_231129.200717474\",\n",
    "            \"DarkLeptonicScalar.mass-130.eps-5e-6.nevents-10000_ene_1e3_1e6_231129.200717483\",\n",
    "            \"DarkLeptonicScalar.mass-130.eps-5e-6.nevents-10000_ene_1e4_1e7_gap_100_231129.200719028\",\n",
    "             ]\n",
    "\n",
    "# dataset enum\n",
    "for foldername in folderlist:\n",
    "    datapath = datadir + foldername + \"/\"\n",
    "    infiles = list(glob.glob(datapath+\"LLPSim*/*.gz\"))\n",
    "    #print(infiles)\n",
    "    generator = harvest_generators(infiles)\n",
    "    \n",
    "    print(generator)\n",
    "    \n",
    "    print(\"Doing folder\", foldername)\n",
    "    tray = I3Tray()\n",
    "    tray.Add(\"I3Reader\", filenamelist=infiles)\n",
    "    tray.AddModule('I3MuonGun::WeightCalculatorModule', 'MuonWeight', Model=model,\n",
    "        Generator=generator)\n",
    "    tray.Add(\"I3Writer\", filename=datapath+\"Trigger_weighted.i3.gz\")\n",
    "    tray.Execute()"
   ]
  },
  {
   "cell_type": "code",
   "execution_count": null,
   "id": "19639801-a445-4f7d-b212-2e0ea41ab517",
   "metadata": {},
   "outputs": [],
   "source": [
    "\"\"\"\n",
    "#infiles = list(glob.glob(datapath+\"LLPSim*/*.gz\"))\n",
    "model = MuonGun.load_model('Hoerandel5_atmod12_SIBYLL')\n",
    "infiles = [\"/data/user/axelpo/LLP-data/DarkLeptonicScalar.mass-130.eps-5e-6.nevents-10000_ene_1e2_1e3_231129.200717492/L2.i3.gz\"]\n",
    "\n",
    "generator = harvest_generators(infiles)\n",
    "\n",
    "tray = I3Tray()\n",
    "tray.Add(\"I3Reader\", filenamelist=infiles)\n",
    "tray.AddModule('I3MuonGun::WeightCalculatorModule', 'MuonWeight', Model=model,\n",
    "    Generator=generator)\n",
    "tray.Add(\"I3Writer\", filename=\"L2_weighted.i3.gz\")\n",
    "tray.Execute()\n",
    "\"\"\""
   ]
  },
  {
   "cell_type": "code",
   "execution_count": null,
   "id": "23d5d637-b6e9-4ac7-ae1d-87d959e714e2",
   "metadata": {},
   "outputs": [],
   "source": [
    "\n",
    "\n"
   ]
  }
 ],
 "metadata": {
  "kernelspec": {
   "display_name": "py3-v4.3.0: icetray/v1.8.2",
   "language": "shell",
   "name": "py3-v4.3.0_v1.8.2"
  },
  "language_info": {
   "codemirror_mode": {
    "name": "ipython",
    "version": 3
   },
   "file_extension": ".py",
   "mimetype": "text/x-python",
   "name": "python",
   "nbconvert_exporter": "python",
   "pygments_lexer": "ipython3",
   "version": "3.11.3"
  }
 },
 "nbformat": 4,
 "nbformat_minor": 5
}
