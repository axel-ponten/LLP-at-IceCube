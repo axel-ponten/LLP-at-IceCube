{
 "cells": [
  {
   "cell_type": "code",
   "execution_count": 1,
   "id": "27d4e2bd-0d81-45d5-9906-175fbf4f7f5c",
   "metadata": {},
   "outputs": [
    {
     "name": "stderr",
     "output_type": "stream",
     "text": [
      "<frozen importlib._bootstrap>:241: RuntimeWarning: to-Python converter for std::vector<char, std::allocator<char> > already registered; second conversion method ignored.\n",
      "<frozen importlib._bootstrap>:241: RuntimeWarning: to-Python converter for std::vector<std::__cxx11::basic_string<char, std::char_traits<char>, std::allocator<char> >, std::allocator<std::__cxx11::basic_string<char, std::char_traits<char>, std::allocator<char> > > > already registered; second conversion method ignored.\n",
      "<frozen importlib._bootstrap>:241: RuntimeWarning: to-Python converter for std::vector<OMKey, std::allocator<OMKey> > already registered; second conversion method ignored.\n",
      "<frozen importlib._bootstrap>:241: RuntimeWarning: to-Python converter for std::vector<short, std::allocator<short> > already registered; second conversion method ignored.\n",
      "<frozen importlib._bootstrap>:241: RuntimeWarning: to-Python converter for std::vector<int, std::allocator<int> > already registered; second conversion method ignored.\n",
      "<frozen importlib._bootstrap>:241: RuntimeWarning: to-Python converter for std::vector<unsigned int, std::allocator<unsigned int> > already registered; second conversion method ignored.\n",
      "<frozen importlib._bootstrap>:241: RuntimeWarning: to-Python converter for std::vector<unsigned long, std::allocator<unsigned long> > already registered; second conversion method ignored.\n",
      "<frozen importlib._bootstrap>:241: RuntimeWarning: to-Python converter for std::vector<double, std::allocator<double> > already registered; second conversion method ignored.\n"
     ]
    }
   ],
   "source": [
    "import icecube\n",
    "from icecube import icetray, dataio\n",
    "from icecube.icetray import I3Tray\n",
    "import glob\n",
    "import os\n",
    "from datetime import datetime\n",
    "import json\n",
    "import csv\n",
    "import matplotlib.pyplot as plt\n",
    "import numpy as np"
   ]
  },
  {
   "cell_type": "code",
   "execution_count": 2,
   "id": "4931792e-1205-439d-867c-5272736edb19",
   "metadata": {},
   "outputs": [],
   "source": [
    "class CheckRandomness(icetray.I3Module):\n",
    "    def __init__(self, ctx):\n",
    "        icetray.I3Module.__init__(self,ctx)\n",
    "        self.AddParameter(\"minbias_list\", \"minbias_list\", None)\n",
    "        self.AddParameter(\"spefit_list\", \"spefit_list\", None)\n",
    "\n",
    "    def Configure(self):\n",
    "        self.minbias_list = self.GetParameter(\"minbias_list\")\n",
    "        self.spefit_list = self.GetParameter(\"spefit_list\")\n",
    "        \n",
    "    def Physics(self, frame):\n",
    "        if frame[\"I3EventHeader\"].sub_event_stream == \"NullSplit\":\n",
    "            filters = frame[\"FilterMask_NullSplit0\"]\n",
    "            minbias = filters[\"FilterMinBias_13\"].condition_passed\n",
    "            self.minbias_list.append( (frame[\"I3EventHeader\"].event_id, minbias) )\n",
    "            if \"SPEFitSingle\" in frame:\n",
    "                self.spefit_list.append( (frame[\"I3EventHeader\"].event_id, frame[\"SPEFitSingle\"].dir.zenith, frame[\"SPEFitSingle\"].dir.azimuth) )\n",
    "        #if frame[\"I3EventHeader\"].sub_event_stream == \"InIceSplit\":\n",
    "         #   filters = frame[\"FilterMask\"]\n",
    "          #  minbias = filters[\"FilterMinBias_13\"].condition_passed\n",
    "           # self.minbias_list.append( (frame[\"I3EventHeader\"].event_id, minbias) )\n",
    "            #if \"SPEFitSingle\" in frame:\n",
    "             #   self.spefit_list.append( (frame[\"I3EventHeader\"].event_id, frame[\"SPEFitSingle\"].dir.zenith, frame[\"SPEFitSingle\"].dir.azimuth) )\n",
    "        \n"
   ]
  },
  {
   "cell_type": "code",
   "execution_count": 3,
   "id": "bfa7d8ff-1eef-493f-bf93-8bce3b98adb8",
   "metadata": {},
   "outputs": [
    {
     "name": "stderr",
     "output_type": "stream",
     "text": [
      "NOTICE (I3Tray): I3Tray finishing... (I3Tray.cxx:526 in void I3Tray::Execute(bool, unsigned int))\n",
      "NOTICE (I3Tray): I3Tray finishing... (I3Tray.cxx:526 in void I3Tray::Execute(bool, unsigned int))\n",
      "NOTICE (I3Tray): I3Tray finishing... (I3Tray.cxx:526 in void I3Tray::Execute(bool, unsigned int))\n"
     ]
    }
   ],
   "source": [
    "path_trigger = \"20904_examples/IC86.2020_corsika.020904.000001.i3.zst\"\n",
    "paths = [\"first_trial/\", \"second_trial/\", \"third_trial/\"]\n",
    "minbias = {1: [], 2: [], 3: []}\n",
    "spefit_single = {1: [], 2: [], 3: []}\n",
    "for i, path in enumerate(paths):\n",
    "    tray = I3Tray()\n",
    "    tray.Add(\"I3Reader\", filename=path+\"L2_sanity_trial\"+str(i+1)+\".i3.gz\")\n",
    "    tray.Add(CheckRandomness, minbias_list = minbias[i+1], spefit_list = spefit_single[i+1])\n",
    "    tray.Execute()\n",
    "\n"
   ]
  },
  {
   "cell_type": "code",
   "execution_count": 4,
   "id": "a9c37954-463e-4007-a129-b690570a818e",
   "metadata": {},
   "outputs": [
    {
     "name": "stdout",
     "output_type": "stream",
     "text": [
      "1 1760\n",
      "2 1762\n",
      "3 1768\n",
      "1 0\n",
      "2 0\n",
      "3 0\n"
     ]
    }
   ],
   "source": [
    "#print(minbias)\n",
    "#print(spefit_single)\n",
    "\n",
    "for key, item in minbias.items():\n",
    "    print(key, len([x for x in item if x[1] == True]))\n",
    "\n",
    "for key, item in spefit_single.items():\n",
    "    print(key, len(item))"
   ]
  },
  {
   "cell_type": "code",
   "execution_count": null,
   "id": "c27e38a0-f1d0-49e6-9f11-ddd01eca00fd",
   "metadata": {},
   "outputs": [],
   "source": []
  }
 ],
 "metadata": {
  "kernelspec": {
   "display_name": "py3-v4.3.0: icetray/v1.8.2",
   "language": "shell",
   "name": "py3-v4.3.0_v1.8.2"
  },
  "language_info": {
   "codemirror_mode": {
    "name": "ipython",
    "version": 3
   },
   "file_extension": ".py",
   "mimetype": "text/x-python",
   "name": "python",
   "nbconvert_exporter": "python",
   "pygments_lexer": "ipython3",
   "version": "3.11.3"
  }
 },
 "nbformat": 4,
 "nbformat_minor": 5
}
