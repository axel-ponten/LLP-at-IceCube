{
 "cells": [
  {
   "cell_type": "code",
   "execution_count": 1,
   "id": "9f6d747e-b31d-4c7d-88c0-8e98ba8c5cb6",
   "metadata": {},
   "outputs": [
    {
     "name": "stderr",
     "output_type": "stream",
     "text": [
      "<frozen importlib._bootstrap>:241: RuntimeWarning: to-Python converter for std::vector<char, std::allocator<char> > already registered; second conversion method ignored.\n",
      "<frozen importlib._bootstrap>:241: RuntimeWarning: to-Python converter for std::vector<std::__cxx11::basic_string<char, std::char_traits<char>, std::allocator<char> >, std::allocator<std::__cxx11::basic_string<char, std::char_traits<char>, std::allocator<char> > > > already registered; second conversion method ignored.\n",
      "<frozen importlib._bootstrap>:241: RuntimeWarning: to-Python converter for std::vector<OMKey, std::allocator<OMKey> > already registered; second conversion method ignored.\n",
      "<frozen importlib._bootstrap>:241: RuntimeWarning: to-Python converter for std::vector<short, std::allocator<short> > already registered; second conversion method ignored.\n",
      "<frozen importlib._bootstrap>:241: RuntimeWarning: to-Python converter for std::vector<int, std::allocator<int> > already registered; second conversion method ignored.\n",
      "<frozen importlib._bootstrap>:241: RuntimeWarning: to-Python converter for std::vector<unsigned int, std::allocator<unsigned int> > already registered; second conversion method ignored.\n",
      "<frozen importlib._bootstrap>:241: RuntimeWarning: to-Python converter for std::vector<unsigned long, std::allocator<unsigned long> > already registered; second conversion method ignored.\n",
      "<frozen importlib._bootstrap>:241: RuntimeWarning: to-Python converter for std::vector<double, std::allocator<double> > already registered; second conversion method ignored.\n",
      "/tmp/ipykernel_2211/2034144775.py:4: UserWarning: Using `import I3Tray` or `from I3Tray import *` is now considered depricated. Please switch to using `from icecube.icetray import I3Tray`\n",
      "  from I3Tray import I3Tray\n"
     ]
    }
   ],
   "source": [
    "# check how many events and what type of events are lost from sim to trigger to L1 to L2\n",
    "import icecube\n",
    "from icecube import icetray, dataio\n",
    "from I3Tray import I3Tray\n",
    "import glob\n",
    "import os\n",
    "from datetime import datetime\n",
    "import json\n",
    "import csv\n",
    "import matplotlib.pyplot as plt\n",
    "import numpy as np"
   ]
  },
  {
   "cell_type": "code",
   "execution_count": 2,
   "id": "9af1aed3-c161-4e59-bd99-e55ee08c1b98",
   "metadata": {},
   "outputs": [],
   "source": [
    "class save_ID(icetray.I3Module):\n",
    "    def __init__(self, ctx):\n",
    "        icetray.I3Module.__init__(self,ctx)\n",
    "        self.AddParameter(\"event_id_list\", \"list_of_ids\", None)\n",
    "\n",
    "    def Configure(self):\n",
    "        self.event_id_list = self.GetParameter(\"event_id_list\")\n",
    "        \n",
    "    def DAQ(self, frame):\n",
    "        self.event_id_list.append( (frame[\"I3EventHeader\"].run_id, frame[\"I3EventHeader\"].event_id) )\n",
    "\n",
    "class remove_with_ID(icetray.I3Module):\n",
    "    def __init__(self, ctx):\n",
    "        icetray.I3Module.__init__(self,ctx)\n",
    "        self.AddParameter(\"event_id_list\", \"list_of_ids\", None)\n",
    "\n",
    "    def Configure(self):\n",
    "        self.event_id_list = self.GetParameter(\"event_id_list\")\n",
    "        \n",
    "    def DAQ(self, frame):\n",
    "        current_tuple = (frame[\"I3EventHeader\"].run_id, frame[\"I3EventHeader\"].event_id)\n",
    "        if current_tuple not in self.event_id_list:\n",
    "            self.PushFrame(frame)\n",
    "        \n",
    "    def Physics(self, frame):\n",
    "        current_tuple = (frame[\"I3EventHeader\"].run_id, frame[\"I3EventHeader\"].event_id)\n",
    "        if current_tuple not in self.event_id_list:\n",
    "            self.PushFrame(frame)"
   ]
  },
  {
   "cell_type": "code",
   "execution_count": 3,
   "id": "9e293552-b5d1-4fe0-a706-3dd98fb083c6",
   "metadata": {},
   "outputs": [
    {
     "name": "stderr",
     "output_type": "stream",
     "text": [
      "NOTICE (I3Tray): I3Tray finishing... (I3Tray.cxx:526 in void I3Tray::Execute(bool, unsigned int))\n",
      "NOTICE (I3Tray): I3Tray finishing... (I3Tray.cxx:526 in void I3Tray::Execute(bool, unsigned int))\n",
      "NOTICE (I3Tray): I3Tray finishing... (I3Tray.cxx:526 in void I3Tray::Execute(bool, unsigned int))\n",
      "NOTICE (I3Tray): I3Tray finishing... (I3Tray.cxx:526 in void I3Tray::Execute(bool, unsigned int))\n",
      "NOTICE (I3Tray): I3Tray finishing... (I3Tray.cxx:526 in void I3Tray::Execute(bool, unsigned int))\n",
      "NOTICE (I3Tray): I3Tray finishing... (I3Tray.cxx:526 in void I3Tray::Execute(bool, unsigned int))\n"
     ]
    }
   ],
   "source": [
    "\n",
    "path_trigger = \"20904_examples/IC86.2020_corsika.020904.000001.i3.zst\"\n",
    "paths = [\"first_trial/\", \"second_trial/\", \"third_trial/\"]\n",
    "for i, path in enumerate(paths):\n",
    "    # which L2 events survived?\n",
    "    event_id_list_L2 = []\n",
    "    tray = I3Tray()\n",
    "    tray.Add(\"I3Reader\", filename=path+\"L2_sanity_trial\"+str(i+1)+\".i3.gz\")\n",
    "    tray.Add(save_ID, event_id_list = event_id_list_L2)\n",
    "    tray.Execute()\n",
    "    with open(path+\"IDs_L2_trial\"+str(i+1)+\".csv\", \"w\") as f:\n",
    "        csv_writer = csv.writer(f)\n",
    "        csv_writer.writerows(event_id_list_L2)\n",
    "    \n",
    "    # which trigger did not survive to L2?\n",
    "    tray = I3Tray()\n",
    "    tray.Add(\"I3Reader\", filename=path_trigger)\n",
    "    tray.Add(remove_with_ID, event_id_list = event_id_list_L2) # pass previous list\n",
    "    tray.Add(\"I3Writer\", filename=path+\"trigger_didnt_survive_L2_trial\"+str(i+1)+\".i3.gz\")\n",
    "    tray.Execute()"
   ]
  },
  {
   "cell_type": "code",
   "execution_count": 3,
   "id": "3325190c-ce12-4ecf-b51c-2ca5c7ac2c9b",
   "metadata": {},
   "outputs": [
    {
     "name": "stderr",
     "output_type": "stream",
     "text": [
      "NOTICE (I3Tray): I3Tray finishing... (I3Tray.cxx:526 in void I3Tray::Execute(bool, unsigned int))\n",
      "NOTICE (I3Tray): I3Tray finishing... (I3Tray.cxx:526 in void I3Tray::Execute(bool, unsigned int))\n"
     ]
    }
   ],
   "source": [
    "# for the CORSIKA already done Level 2\n",
    "\n",
    "path         = \"20904_examples/\"\n",
    "path_trigger = path + \"IC86.2020_corsika.020904.000001.i3.zst\"\n",
    "path_L2      = path + \"Level2_IC86.2020_corsika.020904.000001.i3.zst\"\n",
    "\n",
    "# which L2 events survived?\n",
    "event_id_list_L2 = []\n",
    "tray = I3Tray()\n",
    "tray.Add(\"I3Reader\", filename=path_L2)\n",
    "tray.Add(save_ID, event_id_list = event_id_list_L2)\n",
    "tray.Execute()\n",
    "with open(path+\"IDs_L2_trial0.csv\", \"w\") as f:\n",
    "    csv_writer = csv.writer(f)\n",
    "    csv_writer.writerows(event_id_list_L2)\n",
    "\n",
    "# which trigger did not survive to L2?\n",
    "tray = I3Tray()\n",
    "tray.Add(\"I3Reader\", filename=path_trigger)\n",
    "tray.Add(remove_with_ID, event_id_list = event_id_list_L2) # pass previous list\n",
    "tray.Add(\"I3Writer\", filename=path+\"trigger_didnt_survive_L2_trial0.i3.gz\")\n",
    "tray.Execute()"
   ]
  },
  {
   "cell_type": "code",
   "execution_count": null,
   "id": "65a81fef-9898-4811-b7e1-af50a628cf7d",
   "metadata": {},
   "outputs": [],
   "source": []
  }
 ],
 "metadata": {
  "kernelspec": {
   "display_name": "py3-v4.3.0: icetray/v1.8.2",
   "language": "shell",
   "name": "py3-v4.3.0_v1.8.2"
  },
  "language_info": {
   "codemirror_mode": {
    "name": "ipython",
    "version": 3
   },
   "file_extension": ".py",
   "mimetype": "text/x-python",
   "name": "python",
   "nbconvert_exporter": "python",
   "pygments_lexer": "ipython3",
   "version": "3.11.3"
  }
 },
 "nbformat": 4,
 "nbformat_minor": 5
}
