{
 "cells": [
  {
   "cell_type": "code",
   "execution_count": 1,
   "id": "1907d49a-8ce3-43c4-99ee-75b53b54e159",
   "metadata": {},
   "outputs": [],
   "source": [
    "# check how many events and what type of events are lost from sim to trigger to L1 to L2\n",
    "#import icecube\n",
    "#from icecube import icetray, dataio\n",
    "#from I3Tray import I3Tray\n",
    "import glob\n",
    "import os\n",
    "from datetime import datetime\n",
    "import json\n",
    "import csv\n",
    "import matplotlib.pyplot as plt\n",
    "import numpy as np"
   ]
  },
  {
   "cell_type": "markdown",
   "id": "3b0f94b1-bc56-4892-a9f6-c3e5ee1a41e7",
   "metadata": {},
   "source": [
    "### How many survive L2?"
   ]
  },
  {
   "cell_type": "code",
   "execution_count": 2,
   "id": "13258f0a-92be-4793-befd-fc63dcdaf1dc",
   "metadata": {},
   "outputs": [
    {
     "name": "stdout",
     "output_type": "stream",
     "text": [
      "Number of events in trial0 1748\n",
      "Number of events in trial1 1760\n",
      "Number of events in trial2 1762\n",
      "Number of events in trial3 1768\n",
      "Number of events that always pass L2 1562\n"
     ]
    }
   ],
   "source": [
    "paths = [\"20904_examples/\", \"first_trial/\", \"second_trial/\", \"third_trial/\"]\n",
    "IDs = []\n",
    "for i, path in enumerate(paths):\n",
    "    id_list = csv.reader(open(path+\"IDs_L2_trial\"+str(i)+\".csv\"))\n",
    "    id_list = [(int(row[0]), int(row[1])) for row in id_list]\n",
    "    IDs.append(id_list)\n",
    "    print(f\"Number of events in trial{i}\", len(id_list))\n",
    "#print(IDs)\n",
    "intersection = set(IDs[0]).intersection(IDs[1], IDs[2], IDs[3])\n",
    "print(f\"Number of events that always pass L2\", len(intersection))"
   ]
  },
  {
   "cell_type": "markdown",
   "id": "7432847b-7309-4d98-9e2b-688a31b389cb",
   "metadata": {},
   "source": [
    "### Which events are only selected once or twice?"
   ]
  },
  {
   "cell_type": "code",
   "execution_count": 44,
   "id": "df79a201-fc65-408e-bd0d-7826456c519f",
   "metadata": {},
   "outputs": [
    {
     "name": "stdout",
     "output_type": "stream",
     "text": [
      "186 events appears only in 20904_examples/ and it's these ones [356, 1449, 1680, 1866, 1920, 1940, 1958, 2053, 2079, 2160, 2227, 2243, 2426, 2513, 2571, 2602, 2779, 2988, 3021, 3067, 3111, 3161, 3194, 3199, 3273, 3289, 3389, 3578, 3623, 3731, 3762, 3823, 3834, 3964, 3998, 4031, 4123, 4128, 4165, 4418, 4681, 4786, 4981, 4990, 5024, 5042, 5075, 5096, 5388, 5406, 5539, 5729, 5843, 5851, 5890, 5977, 5985, 6194, 6244, 6285, 6336, 6342, 6558, 6639, 6754, 6761, 7074, 7114, 7153, 7226, 7309, 7428, 7555, 7584, 7620, 7658, 7714, 7871, 7893, 7923, 7957, 8071, 8079, 8091, 8301, 8556, 8651, 8868, 8901, 8930, 9036, 9093, 9162, 9345, 9365, 9432, 9435, 9449, 9462, 9475, 9522, 9572, 9624, 9711, 9821, 9828, 9942, 10115, 10298, 10331, 10355, 10499, 10521, 10624, 10640, 10798, 10913, 10983, 11054, 11214, 11259, 11282, 11304, 11340, 11366, 11500, 11517, 11542, 11679, 11904, 11944, 11974, 12076, 12089, 12110, 12119, 12446, 12496, 12842, 12964, 12995, 13014, 13100, 13128, 13245, 13287, 13320, 13448, 13481, 13490, 13530, 13587, 13628, 13649, 13661, 13795, 13802, 13879, 13881, 14095, 14185, 14463, 14578, 14645, 14690, 14693, 15161, 15214, 15448, 15467, 15571, 15577, 15647, 15676, 15797, 15925, 15998, 16067, 16186, 16190, 16293, 16356, 16399, 16514, 16564, 16651]\n",
      "\n",
      " 191 events in all the others but not this one [348, 1318, 1536, 1690, 1750, 1913, 1941, 1971, 2014, 2110, 2246, 2414, 2470, 2636, 2743, 2961, 2974, 3079, 3209, 3220, 3372, 3473, 3474, 3487, 4227, 4273, 4499, 4511, 4616, 4672, 4763, 4914, 4992, 5061, 5063, 5073, 5082, 5125, 5144, 5185, 5188, 5267, 5359, 5403, 5405, 5469, 5525, 5589, 5600, 5777, 5899, 5963, 5992, 6038, 6066, 6627, 6666, 6752, 6763, 6777, 6834, 7144, 7155, 7377, 7466, 7639, 7782, 7806, 8001, 8016, 8021, 8072, 8110, 8221, 8493, 8529, 8706, 8712, 8883, 9104, 9240, 9276, 9299, 9391, 9400, 9487, 9592, 9614, 9758, 9800, 9931, 9982, 10010, 10040, 10078, 10118, 10136, 10137, 10430, 10431, 10455, 10533, 10589, 10647, 10688, 10733, 10802, 10967, 11061, 11079, 11168, 11247, 11445, 11536, 11579, 11696, 11863, 11886, 11901, 11988, 12006, 12036, 12120, 12153, 12206, 12324, 12345, 12423, 12478, 12483, 12581, 12662, 12668, 12769, 12808, 12869, 12939, 12983, 13063, 13081, 13162, 13297, 13385, 13407, 13531, 13579, 13581, 13583, 13635, 13678, 13753, 13765, 13791, 13797, 13888, 13903, 13915, 13968, 14169, 14251, 14314, 14334, 14350, 14384, 14402, 14771, 14805, 14810, 14955, 15153, 15240, 15265, 15267, 15375, 15583, 15592, 15720, 15875, 15913, 15927, 15939, 16094, 16203, 16349, 16357, 16494, 16597, 16611, 16648, 16755, 16876]\n",
      "\n",
      "\n",
      "7 events appears only in first_trial/ and it's these ones [215, 2203, 4484, 5447, 9480, 13712, 14593]\n",
      "\n",
      " 0 events in all the others but not this one []\n",
      "\n",
      "\n",
      "9 events appears only in second_trial/ and it's these ones [1918, 4595, 4807, 6247, 6363, 7149, 7655, 11367, 11865]\n",
      "\n",
      " 0 events in all the others but not this one []\n",
      "\n",
      "\n",
      "15 events appears only in third_trial/ and it's these ones [1543, 3102, 4045, 4989, 6894, 7266, 7635, 8577, 10164, 12155, 13873, 14657, 15574, 16315, 16448]\n",
      "\n",
      " 0 events in all the others but not this one []\n",
      "\n",
      "\n",
      "All events that only survive once [215, 356, 1449, 1543, 1680, 1866, 1918, 1920, 1940, 1958, 2053, 2079, 2160, 2203, 2227, 2243, 2426, 2513, 2571, 2602, 2779, 2988, 3021, 3067, 3102, 3111, 3161, 3194, 3199, 3273, 3289, 3389, 3578, 3623, 3731, 3762, 3823, 3834, 3964, 3998, 4031, 4045, 4123, 4128, 4165, 4418, 4484, 4595, 4681, 4786, 4807, 4981, 4989, 4990, 5024, 5042, 5075, 5096, 5388, 5406, 5447, 5539, 5729, 5843, 5851, 5890, 5977, 5985, 6194, 6244, 6247, 6285, 6336, 6342, 6363, 6558, 6639, 6754, 6761, 6894, 7074, 7114, 7149, 7153, 7226, 7266, 7309, 7428, 7555, 7584, 7620, 7635, 7655, 7658, 7714, 7871, 7893, 7923, 7957, 8071, 8079, 8091, 8301, 8556, 8577, 8651, 8868, 8901, 8930, 9036, 9093, 9162, 9345, 9365, 9432, 9435, 9449, 9462, 9475, 9480, 9522, 9572, 9624, 9711, 9821, 9828, 9942, 10115, 10164, 10298, 10331, 10355, 10499, 10521, 10624, 10640, 10798, 10913, 10983, 11054, 11214, 11259, 11282, 11304, 11340, 11366, 11367, 11500, 11517, 11542, 11679, 11865, 11904, 11944, 11974, 12076, 12089, 12110, 12119, 12155, 12446, 12496, 12842, 12964, 12995, 13014, 13100, 13128, 13245, 13287, 13320, 13448, 13481, 13490, 13530, 13587, 13628, 13649, 13661, 13712, 13795, 13802, 13873, 13879, 13881, 14095, 14185, 14463, 14578, 14593, 14645, 14657, 14690, 14693, 15161, 15214, 15448, 15467, 15571, 15574, 15577, 15647, 15676, 15797, 15925, 15998, 16067, 16186, 16190, 16293, 16315, 16356, 16399, 16448, 16514, 16564, 16651] \n",
      "\n",
      "\n",
      "\n",
      "\n",
      "All events that only miss once [348, 1318, 1536, 1690, 1750, 1913, 1941, 1971, 2014, 2110, 2246, 2414, 2470, 2636, 2743, 2961, 2974, 3079, 3209, 3220, 3372, 3473, 3474, 3487, 4227, 4273, 4499, 4511, 4616, 4672, 4763, 4914, 4992, 5061, 5063, 5073, 5082, 5125, 5144, 5185, 5188, 5267, 5359, 5403, 5405, 5469, 5525, 5589, 5600, 5777, 5899, 5963, 5992, 6038, 6066, 6627, 6666, 6752, 6763, 6777, 6834, 7144, 7155, 7377, 7466, 7639, 7782, 7806, 8001, 8016, 8021, 8072, 8110, 8221, 8493, 8529, 8706, 8712, 8883, 9104, 9240, 9276, 9299, 9391, 9400, 9487, 9592, 9614, 9758, 9800, 9931, 9982, 10010, 10040, 10078, 10118, 10136, 10137, 10430, 10431, 10455, 10533, 10589, 10647, 10688, 10733, 10802, 10967, 11061, 11079, 11168, 11247, 11445, 11536, 11579, 11696, 11863, 11886, 11901, 11988, 12006, 12036, 12120, 12153, 12206, 12324, 12345, 12423, 12478, 12483, 12581, 12662, 12668, 12769, 12808, 12869, 12939, 12983, 13063, 13081, 13162, 13297, 13385, 13407, 13531, 13579, 13581, 13583, 13635, 13678, 13753, 13765, 13791, 13797, 13888, 13903, 13915, 13968, 14169, 14251, 14314, 14334, 14350, 14384, 14402, 14771, 14805, 14810, 14955, 15153, 15240, 15265, 15267, 15375, 15583, 15592, 15720, 15875, 15913, 15927, 15939, 16094, 16203, 16349, 16357, 16494, 16597, 16611, 16648, 16755, 16876] \n",
      "\n",
      "\n",
      "\n",
      "\n",
      "Events that are both only selected once, and only missed once (should be zero): set()\n"
     ]
    }
   ],
   "source": [
    "only_once_list = []\n",
    "miss_once_list = []\n",
    "\n",
    "modulo = len(paths)\n",
    "for i, path in enumerate(paths):\n",
    "    only_once = set(IDs[i%modulo]).difference(IDs[(i+1)%modulo], IDs[(i+2)%modulo], IDs[(i+3)%modulo])\n",
    "    only_once_list.append(only_once)\n",
    "    \n",
    "    common_other = set(IDs[(i+1)%modulo]) & set(IDs[(i+2)%modulo]) & set(IDs[(i+3)%modulo])\n",
    "    miss_once = common_other - set(IDs[i%3])\n",
    "    miss_once_list.append(miss_once)\n",
    "    print(len(only_once), \"events appears only in\", path, \"and it's these ones\", sorted([x[1] for x in only_once]))\n",
    "    print(\"\\n\", len(miss_once), \"events in all the others but not this one\", sorted([x[1] for x in miss_once]))\n",
    "    print(\"\\n\")\n",
    "    \n",
    "\n",
    "only_once_total = only_once_list[0].union(only_once_list[1], only_once_list[2], only_once_list[3])\n",
    "print(\"All events that only survive once\", sorted([x[1] for x in only_once_total]), \"\\n\\n\\n\\n\")\n",
    "\n",
    "\n",
    "miss_once_total = miss_once_list[0].union(miss_once_list[1], miss_once_list[2], miss_once_list[3])\n",
    "print(\"All events that only miss once\", sorted([x[1] for x in miss_once_total]), \"\\n\\n\\n\\n\")\n",
    "\n",
    "print(\"Events that are both only selected once, and only missed once (should be zero):\", set(only_once_total) & set(miss_once_total))"
   ]
  },
  {
   "cell_type": "markdown",
   "id": "5b6770d7-9c4d-480e-8b04-11ef36adaf44",
   "metadata": {},
   "source": [
    "### Common events L2 corsika and my selection"
   ]
  },
  {
   "cell_type": "code",
   "execution_count": 4,
   "id": "0b33b4d2-5096-426d-8b00-544821e3f555",
   "metadata": {},
   "outputs": [
    {
     "ename": "SyntaxError",
     "evalue": "incomplete input (1777682817.py, line 4)",
     "output_type": "error",
     "traceback": [
      "\u001b[0;36m  Cell \u001b[0;32mIn[4], line 4\u001b[0;36m\u001b[0m\n\u001b[0;31m    #print(event)\u001b[0m\n\u001b[0m                 ^\u001b[0m\n\u001b[0;31mSyntaxError\u001b[0m\u001b[0;31m:\u001b[0m incomplete input\n"
     ]
    }
   ],
   "source": [
    "print(\"events that pass all selections\")\n",
    "intersection_sorted = sorted(intersection, key=lambda x : x[1])\n",
    "for run, event in intersection_sorted:\n",
    "    #print(event)"
   ]
  },
  {
   "cell_type": "code",
   "execution_count": 46,
   "id": "a442cdd5-2abf-4bfb-a691-85d9386bffaf",
   "metadata": {},
   "outputs": [
    {
     "name": "stdout",
     "output_type": "stream",
     "text": [
      "True\n",
      "True\n",
      "True\n",
      "True\n"
     ]
    }
   ],
   "source": [
    "eventn = 1348\n",
    "\n",
    "print((52100002, eventn) in (IDs[0]))\n",
    "print((52100002, eventn) in (IDs[1]))\n",
    "print((52100002, eventn) in (IDs[2]))\n",
    "print((52100002, eventn) in (IDs[3]))"
   ]
  },
  {
   "cell_type": "code",
   "execution_count": null,
   "id": "66bc3660-8120-40fc-a93c-2426cccb29e8",
   "metadata": {},
   "outputs": [],
   "source": []
  }
 ],
 "metadata": {
  "kernelspec": {
   "display_name": "py3-v4.3.0: icetray/v1.8.2",
   "language": "shell",
   "name": "py3-v4.3.0_v1.8.2"
  },
  "language_info": {
   "codemirror_mode": {
    "name": "ipython",
    "version": 3
   },
   "file_extension": ".py",
   "mimetype": "text/x-python",
   "name": "python",
   "nbconvert_exporter": "python",
   "pygments_lexer": "ipython3",
   "version": "3.11.3"
  }
 },
 "nbformat": 4,
 "nbformat_minor": 5
}
