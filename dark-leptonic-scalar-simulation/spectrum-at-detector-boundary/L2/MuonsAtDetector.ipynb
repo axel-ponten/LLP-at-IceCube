{
 "cells": [
  {
   "cell_type": "code",
   "execution_count": 1,
   "id": "861aa4c0-392d-4d4b-8eb8-5bd4ca3a7259",
   "metadata": {},
   "outputs": [],
   "source": [
    "import icecube\n",
    "from icecube.icetray.i3logging import log_info, log_fatal\n",
    "from icecube import dataclasses, dataio, icetray, simclasses, MuonGun, hdfwriter\n",
    "import matplotlib.pyplot as plt\n",
    "import numpy as np\n",
    "from I3Tray import I3Tray\n",
    "import glob"
   ]
  },
  {
   "cell_type": "code",
   "execution_count": 2,
   "id": "d058ae63-cb55-4d89-b6ef-28f38663a7db",
   "metadata": {},
   "outputs": [],
   "source": [
    "#Function to read the GCD file and make the extruded polygon which\n",
    "#defines the edge of the in-ice array\n",
    "def MakeSurface(gcdName, padding):\n",
    "    file = dataio.I3File(gcdName, \"r\")\n",
    "    frame = file.pop_frame()\n",
    "    while not \"I3Geometry\" in frame:\n",
    "        frame = file.pop_frame()\n",
    "    geometry = frame[\"I3Geometry\"]\n",
    "    xyList = []\n",
    "    zmax = -1e100\n",
    "    zmin = 1e100\n",
    "    step = int(len(geometry.omgeo.keys())/10)\n",
    "    print(\"Loading the DOM locations from the GCD file\")\n",
    "    for i, key in enumerate(geometry.omgeo.keys()):\n",
    "        if i % step == 0:\n",
    "            print( \"{0}/{1} = {2}%\".format(i,len(geometry.omgeo.keys()), int(round(i/len(geometry.omgeo.keys())*100))))\n",
    "            \n",
    "        if key.om in [61, 62, 63, 64] and key.string <= 81: #Remove IT...\n",
    "            continue\n",
    "\n",
    "        pos = geometry.omgeo[key].position\n",
    "\n",
    "        if pos.z > 1500:\n",
    "            continue\n",
    "            \n",
    "        xyList.append(pos)\n",
    "        i+=1\n",
    "    \n",
    "    return MuonGun.ExtrudedPolygon(xyList, padding) \n",
    "\n",
    "def get_position_along_track(particle, length):\n",
    "    return particle.pos + dataclasses.I3Position(length, particle.dir.theta, particle.dir.phi, dataclasses.I3Position.sph)\n"
   ]
  },
  {
   "cell_type": "code",
   "execution_count": 3,
   "id": "b4a5d8bf-3f1f-4476-b4c1-e74f2d6d065f",
   "metadata": {},
   "outputs": [],
   "source": [
    "class MuonsInIce(icetray.I3Module):\n",
    "    \"\"\"\n",
    "        This module is for atmospheric muon information at the detector surface\n",
    "    \"\"\"\n",
    "    def __init__(self,ctx):\n",
    "        icetray.I3Module.__init__(self,ctx)\n",
    "\n",
    "        self.gcdFile = \"\"\n",
    "        self.AddParameter(\"GCDFile\", \"GCD file which defines the in-ice volume\", self.gcdFile)\n",
    "\n",
    "        self.padding = 0. * icetray.I3Units.m # default no padding\n",
    "        self.AddParameter(\"Padding\", \"\", self.padding)\n",
    "\n",
    "    def Configure(self):\n",
    "        pass\n",
    "            \n",
    "    def DAQ(self, frame):\n",
    "        \n",
    "        tracklist = frame[\"MMCTrackList\"]\n",
    "        muon_energies_tracklist = [track.Ei for track in tracklist]\n",
    "        # save to frame\n",
    "        muon_map                      = dataclasses.I3MapStringDouble()\n",
    "        muon_map[\"N\"]                 = len(muon_energies_tracklist)\n",
    "        muon_map[\"HighestMuonEnergyTrack\"] = max(muon_energies_tracklist)\n",
    "        muon_map[\"TotalEnergyTrack\"]       = sum(muon_energies_tracklist)\n",
    "        frame[\"MuonAtDetectorBoundary\"] = muon_map\n",
    "        self.PushFrame(frame)\n",
    "        \n",
    "        \n",
    "    def Finish(self):\n",
    "        pass"
   ]
  },
  {
   "cell_type": "code",
   "execution_count": 4,
   "id": "49290db5-cd55-4ec3-ac06-312c59e1d91e",
   "metadata": {},
   "outputs": [
    {
     "name": "stdout",
     "output_type": "stream",
     "text": [
      "Number of files  30\n"
     ]
    },
    {
     "name": "stderr",
     "output_type": "stream",
     "text": [
      "NOTICE (I3Tray): I3Tray finishing... (I3Tray.cxx:526 in void I3Tray::Execute(bool, unsigned int))\n",
      "WARN (I3TableWriter): 2 SubEventStreams ['InIceSplit','NullSplit',] were seen but not booked because they were not passed as part of the 'SubEventStreams' parameter of I3TableWriter (which was configured as ['SimHDFWriter',]). To book events from these streams, add them to the 'SubEventStreams' parameter of I3TableWriter. (I3TableWriter.cxx:479 in void I3TableWriter::Finish())\n"
     ]
    }
   ],
   "source": [
    "filelist = list(glob.glob(\"/data/sim/IceCube/2020/filtered/level2/CORSIKA-in-ice/20904/0198000-0198999/Level2*.i3.zst\"),)\n",
    "n_files = 30 # how many files to use?\n",
    "filelist = filelist[0:n_files] \n",
    "print(\"Number of files \", len(filelist))\n",
    "gcdfile = \"/data/user/axelpo/LLP-at-IceCube/dark-leptonic-scalar-simulation/resources/GeoCalibDetectorStatus_2021.Run135903.T00S1.Pass2_V1b_Snow211115.i3.gz\"\n",
    "\n",
    "tray = I3Tray()\n",
    "\n",
    "tray.Add(\"I3Reader\", FileNameList=filelist)\n",
    "tray.Add(MuonsInIce, GCDFile = gcdfile)\n",
    "tray.Add(\n",
    "    hdfwriter.I3SimHDFWriter,\n",
    "    keys=[\"PolyplopiaPrimary\", \"CorsikaWeightMap\", \"MuonAtDetectorBoundary\"],\n",
    "    output=\"Muons_in_ice_\"+str(n_files)+\"files.hdf5\",\n",
    ")\n",
    "\n",
    "tray.Execute()"
   ]
  }
 ],
 "metadata": {
  "kernelspec": {
   "display_name": "IceCube (py3-v4.2.1)",
   "language": "python",
   "name": "py3-v4.2.1"
  },
  "language_info": {
   "codemirror_mode": {
    "name": "ipython",
    "version": 3
   },
   "file_extension": ".py",
   "mimetype": "text/x-python",
   "name": "python",
   "nbconvert_exporter": "python",
   "pygments_lexer": "ipython3",
   "version": "3.10.2"
  }
 },
 "nbformat": 4,
 "nbformat_minor": 5
}
